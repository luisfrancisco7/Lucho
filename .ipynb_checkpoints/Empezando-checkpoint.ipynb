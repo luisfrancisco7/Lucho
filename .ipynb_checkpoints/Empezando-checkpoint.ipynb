{
 "cells": [
  {
   "cell_type": "code",
   "execution_count": null,
   "id": "3b1adbbe-3872-4c70-8c82-739583b847eb",
   "metadata": {},
   "outputs": [],
   "source": []
  },
  {
   "cell_type": "code",
   "execution_count": 1,
   "id": "19dbe1da-a22b-454c-b842-0ab2c2cd4fbc",
   "metadata": {},
   "outputs": [
    {
     "name": "stdout",
     "output_type": "stream",
     "text": [
      "La matriz es A= [[ 4  5  8  0]\n",
      " [-3  7  9 10]\n",
      " [ 2 -4 -9 10]]\n",
      "D=[[ -16  -16  -18 ... -128  -54 -126]\n",
      " [  36  -16  -80 ...  -99    5    4]\n",
      " [  42  -30  -60 ...  -16    0 -120]\n",
      " ...\n",
      " [   0   -6    0 ...  -20   45  -22]\n",
      " [ -75   -6  -16 ... -114  -80  -48]\n",
      " [  -9  -60    4 ...  -35  -56  -33]]\n",
      "Tiempo empleado: 0.002446889877319336 segundos\n"
     ]
    }
   ],
   "source": [
    "import time\n",
    "import numpy as np\n",
    "\n",
    "start = time.time()\n",
    "A=np.array([[4,5,8,0],[-3,7,9,10],[2,-4,-9,10]])\n",
    "print(f'La matriz es A= {A}')\n",
    "m=100; n=m;\n",
    "B=np.random.randint(0, 10, size=(m, n))\n",
    "C=np.random.randint(-20, 7, size=(m, n))\n",
    "D=B.T*C.T\n",
    "print(f'D={D}')\n",
    "stop = time.time()\n",
    "print(f\"Tiempo empleado: {stop - start} segundos\")\n",
    "\n"
   ]
  },
  {
   "cell_type": "code",
   "execution_count": 2,
   "id": "5e170c1e-89ba-4519-b22b-f7b579ec11db",
   "metadata": {},
   "outputs": [
    {
     "name": "stdout",
     "output_type": "stream",
     "text": [
      "Tomorrow never dies: 41.5\n"
     ]
    }
   ],
   "source": [
    "mm=5; nn=8.3;\n",
    "tt=mm*nn\n",
    "print(f'Tomorrow never dies: {tt}')"
   ]
  },
  {
   "cell_type": "code",
   "execution_count": null,
   "id": "8477c6c0-163e-435b-97f8-d6e985735e9a",
   "metadata": {},
   "outputs": [],
   "source": []
  }
 ],
 "metadata": {
  "kernelspec": {
   "display_name": "Python 3 (ipykernel)",
   "language": "python",
   "name": "python3"
  },
  "language_info": {
   "codemirror_mode": {
    "name": "ipython",
    "version": 3
   },
   "file_extension": ".py",
   "mimetype": "text/x-python",
   "name": "python",
   "nbconvert_exporter": "python",
   "pygments_lexer": "ipython3",
   "version": "3.12.7"
  }
 },
 "nbformat": 4,
 "nbformat_minor": 5
}
